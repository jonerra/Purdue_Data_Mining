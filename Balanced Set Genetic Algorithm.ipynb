{
 "cells": [
  {
   "cell_type": "code",
   "execution_count": 1,
   "metadata": {
    "collapsed": true
   },
   "outputs": [],
   "source": [
    "from tpot import TPOTClassifier, TPOTRegressor\n",
    "import pandas as pd\n",
    "import numpy as np\n",
    "import matplotlib.pyplot as plt\n",
    "%matplotlib inline\n",
    "from sklearn.model_selection import train_test_split\n",
    "from sklearn import preprocessing, tree, svm\n",
    "from sklearn.metrics import confusion_matrix,auc,roc_auc_score,roc_curve\n",
    "from sklearn.naive_bayes import MultinomialNB, GaussianNB, BernoulliNB\n",
    "from sklearn.ensemble import RandomForestClassifier, VotingClassifier\n",
    "from sklearn.model_selection import train_test_split\n",
    "from sklearn.pipeline import make_pipeline, make_union\n",
    "from sklearn.preprocessing import FunctionTransformer, MinMaxScaler, RobustScaler, StandardScaler\n",
    "from sklearn.feature_selection import VarianceThreshold, SelectPercentile, f_classif, SelectKBest"
   ]
  },
  {
   "cell_type": "code",
   "execution_count": 2,
   "metadata": {
    "collapsed": false
   },
   "outputs": [
    {
     "name": "stdout",
     "output_type": "stream",
     "text": [
      "Percentage of normal transactions:  0.5\n",
      "Percentage of fraud transactions:  0.5\n",
      "Total number of transactions in resampled data:  4220\n"
     ]
    }
   ],
   "source": [
    "# Import data\n",
    "df = pd.read_csv('cleaned_data.csv')\n",
    "\n",
    "# Split the data frame into input and target data frames\n",
    "X = df.ix[:, df.columns != 'fraud']\n",
    "y = df.ix[:, df.columns == 'fraud']\n",
    "\n",
    "# Shuffle and partition our data into 80% train data and 20% test data.\n",
    "X_train, X_test, y_train, y_test = train_test_split(X, y, test_size = 0.2)\n",
    "\n",
    "# Use undersampling to create a balanced set\n",
    "# Number of data points in the minority class\n",
    "number_records_fraud = len(y_train[y_train['fraud'] == 1])\n",
    "fraud_indices = np.array(y_train[y_train['fraud'] == 1].index)\n",
    "\n",
    "# Picking the indices of the normal classes\n",
    "normal_indices = y_train[y_train['fraud'] == 0].index\n",
    "\n",
    "# Out of the indices we picked, randomly select \"x\" number (number_records_fraud)\n",
    "random_normal_indices = np.random.choice(normal_indices, number_records_fraud, replace = False)\n",
    "random_normal_indices = np.array(random_normal_indices)\n",
    "\n",
    "# Appending the 2 indices\n",
    "under_sample_indices = np.concatenate([fraud_indices,random_normal_indices])\n",
    "\n",
    "# Under sample dataset\n",
    "under_sample_data = df.iloc[under_sample_indices,:]\n",
    "\n",
    "X_undersample = under_sample_data.ix[:, under_sample_data.columns != 'fraud']\n",
    "y_undersample = under_sample_data.ix[:, under_sample_data.columns == 'fraud']\n",
    "\n",
    "# Showing ratio\n",
    "print(\"Percentage of normal transactions: \", len(under_sample_data[under_sample_data['fraud'] == 0])/len(under_sample_data))\n",
    "print(\"Percentage of fraud transactions: \", len(under_sample_data[under_sample_data['fraud'] == 1])/len(under_sample_data))\n",
    "print(\"Total number of transactions in resampled data: \", len(under_sample_data))"
   ]
  },
  {
   "cell_type": "code",
   "execution_count": 3,
   "metadata": {
    "collapsed": false
   },
   "outputs": [
    {
     "name": "stderr",
     "output_type": "stream",
     "text": []
    },
    {
     "name": "stdout",
     "output_type": "stream",
     "text": [
      "Generation 1 - Current best internal CV score: 0.9930398279866409\n"
     ]
    },
    {
     "name": "stderr",
     "output_type": "stream",
     "text": []
    },
    {
     "name": "stdout",
     "output_type": "stream",
     "text": [
      "Generation 2 - Current best internal CV score: 0.9930398279866409\n"
     ]
    },
    {
     "name": "stderr",
     "output_type": "stream",
     "text": []
    },
    {
     "name": "stdout",
     "output_type": "stream",
     "text": [
      "Generation 3 - Current best internal CV score: 0.9930398279866409\n"
     ]
    },
    {
     "name": "stderr",
     "output_type": "stream",
     "text": []
    },
    {
     "name": "stdout",
     "output_type": "stream",
     "text": [
      "Generation 4 - Current best internal CV score: 0.9930398279866409\n"
     ]
    },
    {
     "name": "stderr",
     "output_type": "stream",
     "text": []
    },
    {
     "name": "stdout",
     "output_type": "stream",
     "text": [
      "Generation 5 - Current best internal CV score: 0.9930398279866409\n"
     ]
    },
    {
     "name": "stderr",
     "output_type": "stream",
     "text": []
    },
    {
     "name": "stdout",
     "output_type": "stream",
     "text": [
      "\n",
      "Best pipeline: BernoulliNB(input_matrix, 0.19, 90.0)\n"
     ]
    },
    {
     "data": {
      "text/plain": [
       "0.82954545454545459"
      ]
     },
     "execution_count": 3,
     "metadata": {},
     "output_type": "execute_result"
    }
   ],
   "source": [
    "tpot = TPOTClassifier(generations=5, population_size=20, verbosity=2, scoring='precision')\n",
    "tpot.fit(pd.np.array(X_undersample), pd.np.array(y_undersample).ravel())\n",
    "\n",
    "#Score the accuracy\n",
    "tpot.score(np.array(X_test), np.array(y_test))"
   ]
  },
  {
   "cell_type": "code",
   "execution_count": 4,
   "metadata": {
    "collapsed": true
   },
   "outputs": [],
   "source": [
    "tpot.export('pipeline4.py')"
   ]
  },
  {
   "cell_type": "code",
   "execution_count": 5,
   "metadata": {
    "collapsed": false
   },
   "outputs": [
    {
     "name": "stderr",
     "output_type": "stream",
     "text": [
      "C:\\Users\\Jonathan\\AppData\\Local\\Programs\\Anaconda\\lib\\site-packages\\sklearn\\utils\\validation.py:526: DataConversionWarning: A column-vector y was passed when a 1d array was expected. Please change the shape of y to (n_samples, ), for example using ravel().\n",
      "  y = column_or_1d(y, warn=True)\n"
     ]
    },
    {
     "name": "stdout",
     "output_type": "stream",
     "text": [
      "0.9786\n"
     ]
    }
   ],
   "source": [
    "# # High sensitivity, low specificity and accuracy\n",
    "# clf = make_pipeline(\n",
    "#     make_union(VotingClassifier([(\"est\", tree.DecisionTreeClassifier())]), FunctionTransformer(lambda X: X)),\n",
    "#     make_union(VotingClassifier([(\"est\", RandomForestClassifier(n_estimators=500))]), FunctionTransformer(lambda X: X)),\n",
    "#     VarianceThreshold(threshold=0.92),\n",
    "#     SelectPercentile(percentile=37, score_func=f_classif),\n",
    "#     BernoulliNB(alpha=0.53, binarize=0.22, fit_prior=True)\n",
    "# )\n",
    "\n",
    "# # Balanced metrics, roc_auc metric\n",
    "# clf = make_pipeline(\n",
    "#     make_union(VotingClassifier([(\"est\", MultinomialNB(alpha=23.0, fit_prior=True))]), FunctionTransformer(lambda X: X)),\n",
    "#     RandomForestClassifier(n_estimators=500)\n",
    "# )\n",
    "\n",
    "# # Balanced metrics, default\n",
    "# clf = make_pipeline(\n",
    "#     make_union(VotingClassifier([(\"est\", GaussianNB())]), FunctionTransformer(lambda X: X)),\n",
    "#     RandomForestClassifier(n_estimators=500)\n",
    "# )\n",
    "\n",
    "# # Balanced mtrics, f1\n",
    "# clf = make_pipeline(\n",
    "#     make_union(VotingClassifier([(\"est\", MultinomialNB(alpha=0.34, fit_prior=True))]), FunctionTransformer(lambda X: X)),\n",
    "#     make_union(VotingClassifier([(\"est\", RandomForestClassifier(n_estimators=500))]), FunctionTransformer(lambda X: X)),\n",
    "#     svm.LinearSVC(C=0.58, dual=False, penalty=\"l1\")\n",
    "# )\n",
    "\n",
    "# # Very high specificity and low sensitivity, precision\n",
    "clf = make_pipeline(\n",
    "    BernoulliNB(alpha=0.19, binarize=90.0, fit_prior=True)\n",
    ")\n",
    "\n",
    "# Training the data\n",
    "clf.fit(X_undersample, y_undersample)\n",
    "\n",
    "# Scoring the model\n",
    "accuracy = clf.score(X_test, y_test)\n",
    "\n",
    "# Printing the score of the model\n",
    "print(accuracy)"
   ]
  },
  {
   "cell_type": "code",
   "execution_count": 6,
   "metadata": {
    "collapsed": false
   },
   "outputs": [
    {
     "name": "stdout",
     "output_type": "stream",
     "text": [
      "Predicted      0    1\n",
      "Actual               \n",
      "0          19426   30\n",
      "1            398  146\n"
     ]
    }
   ],
   "source": [
    "# Predicting the test data\n",
    "y_pred = np.array(clf.predict(X_test))\n",
    "y_test = np.array(y_test)\n",
    "y_test.resize(len(y_pred))\n",
    "\n",
    "# Displaying a confusion matrix\n",
    "df_confusion = pd.crosstab(y_test, y_pred, rownames=['Actual'], colnames=['Predicted'])\n",
    "print(df_confusion)"
   ]
  },
  {
   "cell_type": "code",
   "execution_count": 7,
   "metadata": {
    "collapsed": false
   },
   "outputs": [
    {
     "name": "stdout",
     "output_type": "stream",
     "text": [
      "Sensitivity: 26.8382352941\n",
      "Specificity: 99.8458059211\n",
      "Accuracy: 97.86\n"
     ]
    }
   ],
   "source": [
    "sensitivity = (df_confusion[1][1] / (df_confusion[1][1] + df_confusion[0][1])) * 100\n",
    "specificity = (df_confusion[0][0] / (df_confusion[1][0] + df_confusion[0][0])) * 100\n",
    "accuracy *= 100\n",
    "print('Sensitivity: %s' % sensitivity)\n",
    "print('Specificity: %s' % specificity)\n",
    "print('Accuracy: %s' % accuracy)"
   ]
  },
  {
   "cell_type": "code",
   "execution_count": 8,
   "metadata": {
    "collapsed": false
   },
   "outputs": [
    {
     "data": {
      "image/png": "[encoded data removed]",
      "text/plain": [
       "<matplotlib.figure.Figure at 0x2e969613748>"
      ]
     },
     "metadata": {},
     "output_type": "display_data"
    }
   ],
   "source": [
    "false_positive_rate, true_positive_rate, thresholds = roc_curve(y_test, y_pred)\n",
    "roc_auc = auc(false_positive_rate, true_positive_rate)\n",
    "\n",
    "plt.title('Receiver Operating Characteristic')\n",
    "plt.plot(false_positive_rate, true_positive_rate, 'b', label='AUC = %0.2f'% roc_auc)\n",
    "plt.legend(loc='lower right')\n",
    "plt.plot([0,1],[0,1],'r--')\n",
    "plt.xlim([-0.1,1.2])\n",
    "plt.ylim([-0.1,1.2])\n",
    "plt.ylabel('True Positive Rate')\n",
    "plt.xlabel('False Positive Rate')\n",
    "plt.show()"
   ]
  },
  {
   "cell_type": "code",
   "execution_count": null,
   "metadata": {
    "collapsed": true
   },
   "outputs": [],
   "source": []
  }
 ],
 "metadata": {
  "anaconda-cloud": {},
  "kernelspec": {
   "display_name": "Python [conda root]",
   "language": "python",
   "name": "conda-root-py"
  },
  "language_info": {
   "codemirror_mode": {
    "name": "ipython",
    "version": 3
   },
   "file_extension": ".py",
   "mimetype": "text/x-python",
   "name": "python",
   "nbconvert_exporter": "python",
   "pygments_lexer": "ipython3",
   "version": "3.5.2"
  }
 },
 "nbformat": 4,
 "nbformat_minor": 1
}
