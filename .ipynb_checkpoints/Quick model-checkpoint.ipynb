{
 "cells": [
  {
   "cell_type": "code",
   "execution_count": 1,
   "metadata": {
    "collapsed": true
   },
   "outputs": [],
   "source": [
    "# Imports\n",
    "import pandas as pd\n",
    "import numpy as np\n",
    "import matplotlib.pyplot as plt\n",
    "from sklearn.model_selection import train_test_split\n",
    "from sklearn import preprocessing, tree\n",
    "from sklearn.ensemble import RandomForestClassifier\n",
    "from sklearn.linear_model import LogisticRegression\n",
    "from sklearn.metrics import confusion_matrix"
   ]
  },
  {
   "cell_type": "code",
   "execution_count": 2,
   "metadata": {
    "collapsed": false
   },
   "outputs": [],
   "source": [
    "# Importing the input and target data sets\n",
    "inputs = pd.read_csv('DataminingContest2009.Task2Inputs.Train.csv')\n",
    "target = pd.read_csv('DataminingContest2009.Task2Targets.Train.csv')\n",
    "\n",
    "# Dropping the two customer attribute columns as they won't provide value to the model\n",
    "inputs = inputs.drop(['custAttr1', 'custAttr2'], 1)"
   ]
  },
  {
   "cell_type": "code",
   "execution_count": 3,
   "metadata": {
    "collapsed": false
   },
   "outputs": [
    {
     "name": "stdout",
     "output_type": "stream",
     "text": [
      "<class 'pandas.core.frame.DataFrame'>\n",
      "RangeIndex: 100000 entries, 0 to 99999\n",
      "Data columns (total 17 columns):\n",
      "amount        100000 non-null float64\n",
      "hour1         100000 non-null int64\n",
      "state1        99999 non-null object\n",
      "zip1          100000 non-null int64\n",
      "field1        100000 non-null int64\n",
      "field2        100000 non-null int64\n",
      "hour2         100000 non-null int64\n",
      "flag1         100000 non-null int64\n",
      "total         100000 non-null float64\n",
      "field3        100000 non-null int64\n",
      "field4        100000 non-null int64\n",
      "indicator1    100000 non-null int64\n",
      "indicator2    100000 non-null int64\n",
      "flag2         100000 non-null int64\n",
      "flag3         100000 non-null int64\n",
      "flag4         100000 non-null int64\n",
      "flag5         100000 non-null int64\n",
      "dtypes: float64(2), int64(14), object(1)\n",
      "memory usage: 13.0+ MB\n",
      "None\n",
      "-------------\n",
      "<class 'pandas.core.frame.DataFrame'>\n",
      "RangeIndex: 100000 entries, 0 to 99999\n",
      "Data columns (total 1 columns):\n",
      "fraud    100000 non-null int64\n",
      "dtypes: int64(1)\n",
      "memory usage: 781.3 KB\n",
      "None\n"
     ]
    }
   ],
   "source": [
    "print(inputs.info())\n",
    "print('-------------')\n",
    "print(target.info())"
   ]
  },
  {
   "cell_type": "code",
   "execution_count": 4,
   "metadata": {
    "collapsed": false
   },
   "outputs": [],
   "source": [
    "# Inputting the state missing value with the most common state\n",
    "inputs['state1'] = inputs['state1'].fillna(inputs['state1'].mode()[0])"
   ]
  },
  {
   "cell_type": "code",
   "execution_count": 5,
   "metadata": {
    "collapsed": false
   },
   "outputs": [],
   "source": [
    "# Converting state values to integers\n",
    "lbl = preprocessing.LabelEncoder()\n",
    "\n",
    "lbl.fit(np.unique(list(inputs['state1'].values)))\n",
    "inputs['state1'] = lbl.transform(list(inputs['state1'].values))"
   ]
  },
  {
   "cell_type": "code",
   "execution_count": 6,
   "metadata": {
    "collapsed": false
   },
   "outputs": [
    {
     "name": "stdout",
     "output_type": "stream",
     "text": [
      "   amount  hour1  state1  zip1  field1  field2  hour2  flag1  total  field3  \\\n",
      "0   12.95      0      50   986       0       0      0      0  12.95    -723   \n",
      "1   38.85      0      50   980       3       1      0      0  38.85    5497   \n",
      "2   38.85      0      19   402       2       1      0      0  38.85   -4420   \n",
      "3   12.95      0       6   958       3       0      0      0  12.95    5010   \n",
      "4   38.85      0      12   300       3       1      0      0  38.85   -4074   \n",
      "\n",
      "   field4  indicator1  indicator2  flag2  flag3  flag4  flag5  \n",
      "0      19           0           0      0      0      0      1  \n",
      "1      14           1           0      0      1      0      1  \n",
      "2      23           0           0      1      1      0      1  \n",
      "3      31           0           0      1      0      0      1  \n",
      "4      21           0           0      1      0      0      1  \n"
     ]
    }
   ],
   "source": [
    "print(inputs.head())"
   ]
  },
  {
   "cell_type": "code",
   "execution_count": 7,
   "metadata": {
    "collapsed": true
   },
   "outputs": [],
   "source": [
    "# Convert our data frame to multidimensional arrays\n",
    "# The X variable is an array of the independent variables and drops column 'y'\n",
    "X = np.array(inputs)\n",
    "\n",
    "# The y variable is an array of the dependent variable 'y'\n",
    "y = np.array(target)"
   ]
  },
  {
   "cell_type": "code",
   "execution_count": 8,
   "metadata": {
    "collapsed": true
   },
   "outputs": [],
   "source": [
    "# Shuffle and partition our data into 80% train data and 20% test data.\n",
    "X_train, X_test, y_train, y_test = train_test_split(X, y, test_size=0.2)"
   ]
  },
  {
   "cell_type": "code",
   "execution_count": 9,
   "metadata": {
    "collapsed": false
   },
   "outputs": [
    {
     "name": "stderr",
     "output_type": "stream",
     "text": [
      "C:\\Users\\Jonathan\\AppData\\Local\\Programs\\Anaconda\\lib\\site-packages\\ipykernel\\__main__.py:8: DataConversionWarning: A column-vector y was passed when a 1d array was expected. Please change the shape of y to (n_samples,), for example using ravel().\n"
     ]
    },
    {
     "name": "stdout",
     "output_type": "stream",
     "text": [
      "0.98155\n"
     ]
    }
   ],
   "source": [
    "# Choosing which model to use for our data\n",
    "clf = RandomForestClassifier(n_estimators=50)\n",
    "# clf = LogisticRegression()\n",
    "# clf = tree.DecisionTreeClassifier()\n",
    "\n",
    "# Training the data\n",
    "clf.fit(X_train, y_train)\n",
    "\n",
    "# Scoring the model\n",
    "accuracy = clf.score(X_test, y_test)\n",
    "\n",
    "# Printing the score of the model\n",
    "print(accuracy)"
   ]
  },
  {
   "cell_type": "code",
   "execution_count": 10,
   "metadata": {
    "collapsed": false
   },
   "outputs": [
    {
     "name": "stdout",
     "output_type": "stream",
     "text": [
      "Predicted      0    1\n",
      "Actual               \n",
      "0          19411   60\n",
      "1            309  220\n"
     ]
    }
   ],
   "source": [
    "# Predicting the test data\n",
    "y_pred = clf.predict(X_test)\n",
    "y_test.resize(20000)\n",
    "\n",
    "# Displaying a confusion matrix\n",
    "df_confusion = pd.crosstab(y_test, y_pred, rownames=['Actual'], colnames=['Predicted'])\n",
    "print(df_confusion)"
   ]
  },
  {
   "cell_type": "code",
   "execution_count": null,
   "metadata": {
    "collapsed": true
   },
   "outputs": [],
   "source": []
  }
 ],
 "metadata": {
  "anaconda-cloud": {},
  "kernelspec": {
   "display_name": "Python [conda root]",
   "language": "python",
   "name": "conda-root-py"
  },
  "language_info": {
   "codemirror_mode": {
    "name": "ipython",
    "version": 3
   },
   "file_extension": ".py",
   "mimetype": "text/x-python",
   "name": "python",
   "nbconvert_exporter": "python",
   "pygments_lexer": "ipython3",
   "version": "3.5.2"
  }
 },
 "nbformat": 4,
 "nbformat_minor": 1
}
