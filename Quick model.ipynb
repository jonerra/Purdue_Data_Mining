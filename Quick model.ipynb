{
 "cells": [
  {
   "cell_type": "code",
   "execution_count": 43,
   "metadata": {
    "collapsed": true
   },
   "outputs": [],
   "source": [
    "# Imports\n",
    "import pandas as pd\n",
    "import numpy as np\n",
    "import matplotlib.pyplot as plt\n",
    "from sklearn.model_selection import train_test_split\n",
    "from sklearn import preprocessing, tree\n",
    "from sklearn.ensemble import RandomForestClassifier\n",
    "from sklearn.linear_model import LogisticRegression\n",
    "from sklearn.metrics import confusion_matrix"
   ]
  },
  {
   "cell_type": "code",
   "execution_count": 44,
   "metadata": {
    "collapsed": false
   },
   "outputs": [],
   "source": [
    "# Importing the input and target data sets\n",
    "inputs = pd.read_csv('DataminingContest2009.Task2Inputs.Train.csv')\n",
    "target = pd.read_csv('DataminingContest2009.Task2Targets.Train.csv')\n",
    "\n",
    "inputs = inputs[['field3', 'flag5', 'zip1', 'total', 'amount', 'field1']]\n",
    "\n",
    "# Dropping the two customer attribute columns as they won't provide value to the model\n",
    "# inputs = inputs.drop(['custAttr1', 'custAttr2'], 1)"
   ]
  },
  {
   "cell_type": "code",
   "execution_count": 45,
   "metadata": {
    "collapsed": false
   },
   "outputs": [
    {
     "name": "stdout",
     "output_type": "stream",
     "text": [
      "<class 'pandas.core.frame.DataFrame'>\n",
      "RangeIndex: 100000 entries, 0 to 99999\n",
      "Data columns (total 6 columns):\n",
      "field3    100000 non-null int64\n",
      "flag5     100000 non-null int64\n",
      "zip1      100000 non-null int64\n",
      "total     100000 non-null float64\n",
      "amount    100000 non-null float64\n",
      "field1    100000 non-null int64\n",
      "dtypes: float64(2), int64(4)\n",
      "memory usage: 4.6 MB\n",
      "None\n",
      "-------------\n",
      "<class 'pandas.core.frame.DataFrame'>\n",
      "RangeIndex: 100000 entries, 0 to 99999\n",
      "Data columns (total 1 columns):\n",
      "fraud    100000 non-null int64\n",
      "dtypes: int64(1)\n",
      "memory usage: 781.3 KB\n",
      "None\n"
     ]
    }
   ],
   "source": [
    "print(inputs.info())\n",
    "print('-------------')\n",
    "print(target.info())"
   ]
  },
  {
   "cell_type": "code",
   "execution_count": 46,
   "metadata": {
    "collapsed": false
   },
   "outputs": [],
   "source": [
    "# Inputting the state missing value with the most common state\n",
    "# inputs['state1'] = inputs['state1'].fillna(inputs['state1'].mode()[0])"
   ]
  },
  {
   "cell_type": "code",
   "execution_count": 47,
   "metadata": {
    "collapsed": false
   },
   "outputs": [],
   "source": [
    "# # Converting state values to integers\n",
    "# lbl = preprocessing.LabelEncoder()\n",
    "\n",
    "# lbl.fit(np.unique(list(inputs['state1'].values)))\n",
    "# inputs['state1'] = lbl.transform(list(inputs['state1'].values))"
   ]
  },
  {
   "cell_type": "code",
   "execution_count": 48,
   "metadata": {
    "collapsed": false
   },
   "outputs": [
    {
     "name": "stdout",
     "output_type": "stream",
     "text": [
      "   field3  flag5  zip1  total  amount  field1\n",
      "0    -723      1   986  12.95   12.95       0\n",
      "1    5497      1   980  38.85   38.85       3\n",
      "2   -4420      1   402  38.85   38.85       2\n",
      "3    5010      1   958  12.95   12.95       3\n",
      "4   -4074      1   300  38.85   38.85       3\n"
     ]
    }
   ],
   "source": [
    "print(inputs.head())"
   ]
  },
  {
   "cell_type": "code",
   "execution_count": 49,
   "metadata": {
    "collapsed": true
   },
   "outputs": [],
   "source": [
    "# Convert our data frame to multidimensional arrays\n",
    "# The X variable is an array of the independent variables and drops column 'y'\n",
    "X = np.array(inputs)\n",
    "\n",
    "# The y variable is an array of the dependent variable 'y'\n",
    "y = np.array(target)"
   ]
  },
  {
   "cell_type": "code",
   "execution_count": 50,
   "metadata": {
    "collapsed": true
   },
   "outputs": [],
   "source": [
    "# Shuffle and partition our data into 80% train data and 20% test data.\n",
    "X_train, X_test, y_train, y_test = train_test_split(X, y, test_size=0.2)"
   ]
  },
  {
   "cell_type": "code",
   "execution_count": 51,
   "metadata": {
    "collapsed": false
   },
   "outputs": [
    {
     "name": "stderr",
     "output_type": "stream",
     "text": [
      "C:\\Users\\Jonathan\\AppData\\Local\\Programs\\Anaconda\\lib\\site-packages\\ipykernel\\__main__.py:7: DataConversionWarning: A column-vector y was passed when a 1d array was expected. Please change the shape of y to (n_samples,), for example using ravel().\n"
     ]
    },
    {
     "name": "stdout",
     "output_type": "stream",
     "text": [
      "0.9822\n"
     ]
    }
   ],
   "source": [
    "# Choosing which model to use for our data\n",
    "clf = RandomForestClassifier(n_estimators=50)\n",
    "# clf = LogisticRegression()\n",
    "# clf = tree.DecisionTreeClassifier()\n",
    "\n",
    "# Training the data\n",
    "clf.fit(X_train, y_train)\n",
    "\n",
    "# Scoring the model\n",
    "accuracy = clf.score(X_test, y_test)\n",
    "\n",
    "# Printing the score of the model\n",
    "print(accuracy)"
   ]
  },
  {
   "cell_type": "code",
   "execution_count": 52,
   "metadata": {
    "collapsed": false
   },
   "outputs": [
    {
     "name": "stdout",
     "output_type": "stream",
     "text": [
      "Predicted      0    1\n",
      "Actual               \n",
      "0          19391   97\n",
      "1            259  253\n"
     ]
    }
   ],
   "source": [
    "# Predicting the test data\n",
    "y_pred = clf.predict(X_test)\n",
    "y_test.resize(20000)\n",
    "\n",
    "# Displaying a confusion matrix\n",
    "df_confusion = pd.crosstab(y_test, y_pred, rownames=['Actual'], colnames=['Predicted'])\n",
    "print(df_confusion)"
   ]
  },
  {
   "cell_type": "code",
   "execution_count": null,
   "metadata": {
    "collapsed": true
   },
   "outputs": [],
   "source": []
  }
 ],
 "metadata": {
  "anaconda-cloud": {},
  "kernelspec": {
   "display_name": "Python [conda root]",
   "language": "python",
   "name": "conda-root-py"
  },
  "language_info": {
   "codemirror_mode": {
    "name": "ipython",
    "version": 3
   },
   "file_extension": ".py",
   "mimetype": "text/x-python",
   "name": "python",
   "nbconvert_exporter": "python",
   "pygments_lexer": "ipython3",
   "version": "3.5.2"
  }
 },
 "nbformat": 4,
 "nbformat_minor": 1
}
